{
 "cells": [
  {
   "cell_type": "markdown",
   "metadata": {},
   "source": [
    "# Similarity/Spell-Checker"
   ]
  },
  {
   "cell_type": "markdown",
   "metadata": {},
   "source": [
    "Create a Python module using the similarity function. Write a Python program to invoke the similarity function on any word entered by the user."
   ]
  },
  {
   "cell_type": "code",
   "execution_count": 1,
   "metadata": {
    "collapsed": true
   },
   "outputs": [],
   "source": [
    "def similarity(inputWord,wordCorpus):\n",
    "    \n",
    "    # get list of words that share the relatively same size +/- 1 letter\n",
    "    \n",
    "    if len(inputWord) == 0:\n",
    "        print \"Please provide a valid word\"\n",
    "        return \"INVALID_ENTRY\"\n",
    "    \n",
    "    lowerWordLen = len(inputWord) - 1\n",
    "    upperWordLen = len(inputWord) + 1\n",
    "    \n",
    "    # get the list of candidate words\n",
    "    candidateWords = []\n",
    "    \n",
    "    for entry in wordCorpus:\n",
    "        \n",
    "        if len(entry) >= lowerWordLen and len(entry) <= upperWordLen:\n",
    "            candidateWords.append(entry)\n",
    "            \n",
    "    # perform similarity comparison\n",
    "    firstTime = True\n",
    "    bestMatchCount = None\n",
    "    bestMatchWord = None\n",
    "    \n",
    "    print \"Input word:\",inputWord\n",
    "    for entry in candidateWords:\n",
    "        matchCount = 0\n",
    "        for l1 in entry:\n",
    "            #print \"letter:\",l1\n",
    "            if l1 in inputWord:\n",
    "                matchCount += 1\n",
    "                \n",
    "        if firstTime == True:\n",
    "            bestMatchCount = matchCount\n",
    "            bestMatchWord = entry\n",
    "            firstTime = False\n",
    "        else:\n",
    "            if matchCount > bestMatchCount:\n",
    "                bestMatchCount = matchCount\n",
    "                bestMatchWord = entry\n",
    "                \n",
    "    # display the best match\n",
    "    print \"Best Match Is:\", bestMatchWord"
   ]
  },
  {
   "cell_type": "code",
   "execution_count": 10,
   "metadata": {},
   "outputs": [
    {
     "name": "stdout",
     "output_type": "stream",
     "text": [
      "Overwriting similarity.py\n"
     ]
    }
   ],
   "source": [
    "%%writefile similarity.py\n",
    "\n",
    "import similarity\n",
    "!curl 'http://www.gutenberg.org/files/11/11-0.txt' -o aliceText.txt\n",
    "# take all words from alice and store them in memory\n",
    "\n",
    "aliceFile = open(\"aliceText.txt\")\n",
    "\n",
    "wordCorpus = []\n",
    "\n",
    "for line in aliceFile:\n",
    "    \n",
    "    # remove newlines\n",
    "    line = line.strip().lower()\n",
    "    \n",
    "    # get words\n",
    "    words = line.split(\" \")\n",
    "    \n",
    "    for word in words:\n",
    "        if word.isalnum():\n",
    "            if word not in wordCorpus:\n",
    "                wordCorpus.append(word)\n",
    "                \n",
    "print similarity.similarity(\"rabbi\",wordCorpus)"
   ]
  },
  {
   "cell_type": "code",
   "execution_count": 12,
   "metadata": {},
   "outputs": [
    {
     "name": "stdout",
     "output_type": "stream",
     "text": [
      "  % Total    % Received % Xferd  Average Speed   Time    Time     Time  Current\n",
      "                                 Dload  Upload   Total   Spent    Left  Speed\n",
      "100  169k  100  169k    0     0   180k      0 --:--:-- --:--:-- --:--:--  206k\n",
      "Enter a word in alice in wonderland:Alice was beginning to get very tired of sitting by her sister on the bank, and of having nothing to do: once or twice she had peeped into the book her sister was reading, but it had no pictures or conversations in it, ‘and what is the use of a book,’ thougt Alice ‘without picturr or conversations?’\n",
      "Input word: Alice was beginning to get very tired of sitting by her sister on the bank, and of having nothing to do: once or twice she had peeped into the book her sister was reading, but it had no pictures or conversations in it, ‘and what is the use of a book,’ thougt Alice ‘without picturr or conversations?’\n",
      "Best Match Is: None\n",
      "None\n"
     ]
    }
   ],
   "source": [
    "### YOUR CODE GOES BELOW\n",
    "\n",
    "# download alice text\n",
    "!curl 'http://www.gutenberg.org/files/11/11-0.txt' -o aliceText.txt\n",
    "\n",
    "\n",
    "# take all words from alice and store them in memory\n",
    "\n",
    "aliceFile = open(\"aliceText.txt\")\n",
    "\n",
    "wordCorpus = []\n",
    "\n",
    "for line in aliceFile:\n",
    "    \n",
    "    # remove newlines\n",
    "    line = line.strip().lower()\n",
    "    \n",
    "    # get words\n",
    "    words = line.split(\" \")\n",
    "    \n",
    "    for word in words:\n",
    "        if word.isalnum():\n",
    "            if word not in wordCorpus:\n",
    "                wordCorpus.append(word)\n",
    "                \n",
    "def similarity(inputWord):\n",
    "    \n",
    "    # get list of words that share the relatively same size +/- 1 letter\n",
    "    \n",
    "    if len(inputWord) == 0:\n",
    "        print \"Please provide a valid word\"\n",
    "        return \"INVALID_ENTRY\"\n",
    "    \n",
    "    lowerWordLen = len(inputWord) - 1\n",
    "    upperWordLen = len(inputWord) + 1\n",
    "    \n",
    "    # get the list of candidate words\n",
    "    candidateWords = []\n",
    "    \n",
    "    for entry in wordCorpus:\n",
    "        \n",
    "        if len(entry) >= lowerWordLen and len(entry) <= upperWordLen:\n",
    "            candidateWords.append(entry)\n",
    "            \n",
    "    # perform similarity comparison\n",
    "    firstTime = True\n",
    "    bestMatchCount = None\n",
    "    bestMatchWord = None\n",
    "    \n",
    "    print \"Input word:\",inputWord\n",
    "    for entry in candidateWords:\n",
    "        matchCount = 0\n",
    "        for l1 in entry:\n",
    "            #print \"letter:\",l1\n",
    "            if l1 in inputWord:\n",
    "                matchCount += 1\n",
    "                \n",
    "        if firstTime == True:\n",
    "            bestMatchCount = matchCount\n",
    "            bestMatchWord = entry\n",
    "            firstTime = False\n",
    "        else:\n",
    "            if matchCount > bestMatchCount:\n",
    "                bestMatchCount = matchCount\n",
    "                bestMatchWord = entry\n",
    "                \n",
    "    # display the best match\n",
    "    print \"Best Match Is:\", bestMatchWord\n",
    "                \n",
    "userWord = raw_input(\"Enter text requiring spell check: \")\n",
    "\n",
    "print similarity(userWord)\n",
    "\n",
    "### END CODE"
   ]
  },
  {
   "cell_type": "code",
   "execution_count": 12,
   "metadata": {},
   "outputs": [
    {
     "name": "stdout",
     "output_type": "stream",
     "text": [
      "Requirement already satisfied: pyenchant in /anaconda/lib/python2.7/site-packages\r\n"
     ]
    }
   ],
   "source": [
    "!pip install pyenchant"
   ]
  },
  {
   "cell_type": "code",
   "execution_count": 25,
   "metadata": {},
   "outputs": [
    {
     "name": "stdout",
     "output_type": "stream",
     "text": [
      " ERROR: thougt\n",
      "['thought', 'though', 'thou gt', 'thou', 'thorough', 'through', 'thong']\n",
      "ERROR: picturr\n",
      "['picture', 'pictorial', 'pictograph', 'stricture', 'picketer']\n"
     ]
    }
   ],
   "source": [
    "from enchant import DictWithPWL\n",
    "from enchant.checker import SpellChecker\n",
    "\n",
    "my_dict = DictWithPWL(\"en_US\", \"mywords.txt\")\n",
    "my_checker = SpellChecker(my_dict)\n",
    "\n",
    "##my_checker= raw_input(\"Enter text requiring spell check: \")\n",
    "my_checker.set_text(\"thougt Alice ‘without picturr or conversations?’\")\n",
    "for error in my_checker:\n",
    "    print \"ERROR:\", error.word\n",
    "    print my_dict.suggest(error.word)"
   ]
  },
  {
   "cell_type": "code",
   "execution_count": null,
   "metadata": {
    "collapsed": true
   },
   "outputs": [],
   "source": []
  }
 ],
 "metadata": {
  "kernelspec": {
   "display_name": "Python 2",
   "language": "python",
   "name": "python2"
  },
  "language_info": {
   "codemirror_mode": {
    "name": "ipython",
    "version": 2
   },
   "file_extension": ".py",
   "mimetype": "text/x-python",
   "name": "python",
   "nbconvert_exporter": "python",
   "pygments_lexer": "ipython2",
   "version": "2.7.13"
  }
 },
 "nbformat": 4,
 "nbformat_minor": 1
}
